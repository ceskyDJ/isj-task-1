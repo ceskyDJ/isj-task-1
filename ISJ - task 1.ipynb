{
 "cells": [
  {
   "cell_type": "code",
   "execution_count": 3,
   "id": "6520aa3a",
   "metadata": {},
   "outputs": [],
   "source": [
    "import re\n",
    "\n",
    "# ukol za 3 body\n",
    "def camel_to_snake_case(name):\n",
    "    \"\"\"Transfer camelCaseNames to snake_case_names.\n",
    "\n",
    "    >>> camel_to_snake_case('camelCaseNameAllowed')\n",
    "    'camel_case_name_allowed'\n",
    "    >>> camel_to_snake_case('longVATNumber')\n",
    "    'long_vat_number'\n",
    "    \"\"\"\n",
    "\n",
    "    inbetween = re.compile(r'''\n",
    "                            (\n",
    "                             \\B(?<=[a-z])        # between a lowercase and\n",
    "                             (?=[A-Z])           # an uppercase letter\n",
    "                             |                   # or\n",
    "                             \\B(?=[A-Z]          # in front of an uppercase\n",
    "                             [a-z])              # followed by a lowercase \n",
    "                            )\n",
    "                            ''', re.VERBOSE)\n",
    "    return inbetween.sub(r'_', name).lower()"
   ]
  },
  {
   "cell_type": "code",
   "execution_count": 4,
   "id": "df7f95e4",
   "metadata": {},
   "outputs": [
    {
     "data": {
      "text/plain": [
       "'camel_case_name_allowed'"
      ]
     },
     "execution_count": 4,
     "metadata": {},
     "output_type": "execute_result"
    }
   ],
   "source": [
    "camel_to_snake_case('camelCaseNameAllowed')"
   ]
  },
  {
   "cell_type": "code",
   "execution_count": 5,
   "id": "f9a62fd7",
   "metadata": {},
   "outputs": [
    {
     "data": {
      "text/plain": [
       "'long_vat_number'"
      ]
     },
     "execution_count": 5,
     "metadata": {},
     "output_type": "execute_result"
    }
   ],
   "source": [
    "camel_to_snake_case('longVATNumber')"
   ]
  },
  {
   "cell_type": "code",
   "execution_count": 7,
   "id": "81847be0",
   "metadata": {},
   "outputs": [],
   "source": [
    "# ukol za 2 body\n",
    "def not_both_titles(names_string):\n",
    "    \"\"\"Returns a list of names not preceded by [Pp]rof./[Dd]oc. and \n",
    "       followed by ', Ph.D.'\n",
    "\n",
    "    >>> not_both_titles('doc. Josef Tyl, Rudolf Srp, Ph.D., Pavel Vlk, doc. RNDr. Petr Berka, Ph.D., Jan Hora')\n",
    "    ['doc. Josef Tyl', 'Rudolf Srp, Ph.D.', 'Pavel Vlk', 'Jan Hora']\n",
    "    \"\"\"\n",
    "\n",
    "    # a name that is either preceded by [Pp]rof./[Dd]oc. and followed by Ph.D.\n",
    "    # or other name with potential titles\n",
    "    pat = re.compile(r'''\n",
    "                      (?:[Pp]rof.|[Dd]oc.)[^,]+(?!,\\sPh\\.D\\.)(?=,\\s+|$)            # it is either\n",
    "                      |                                                            # or\n",
    "                      (?<=,\\s)(?![Pp]rof.|[Dd]oc.|Ph\\.D\\.)\\w[^,]+(?:,\\sPh\\.D\\.)?   # it is\n",
    "                      ''', re.X)\n",
    "    \n",
    "    return [g1 for g1 in pat.findall(names_string) if g1]"
   ]
  },
  {
   "cell_type": "code",
   "execution_count": 11,
   "id": "75840420",
   "metadata": {},
   "outputs": [
    {
     "data": {
      "text/plain": [
       "['doc. Josef Tyl',\n",
       " 'Rudolf Srp, Ph.D.',\n",
       " 'Pavel Vlk',\n",
       " 'Jan Hora',\n",
       " 'Prof. Stanislav Bílý']"
      ]
     },
     "execution_count": 11,
     "metadata": {},
     "output_type": "execute_result"
    }
   ],
   "source": [
    "not_both_titles('doc. Josef Tyl, Rudolf Srp, Ph.D., Pavel Vlk, doc. RNDr. Petr Berka, Ph.D., Jan Hora, prof. Ing. Jan Černocký, Ph.D., Prof. Stanislav Bílý')"
   ]
  }
 ],
 "metadata": {
  "kernelspec": {
   "display_name": "Python 3 (ipykernel)",
   "language": "python",
   "name": "python3"
  },
  "language_info": {
   "codemirror_mode": {
    "name": "ipython",
    "version": 3
   },
   "file_extension": ".py",
   "mimetype": "text/x-python",
   "name": "python",
   "nbconvert_exporter": "python",
   "pygments_lexer": "ipython3",
   "version": "3.10.2"
  }
 },
 "nbformat": 4,
 "nbformat_minor": 5
}
